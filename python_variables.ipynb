{
  "nbformat": 4,
  "nbformat_minor": 0,
  "metadata": {
    "colab": {
      "provenance": []
    },
    "kernelspec": {
      "name": "python3",
      "display_name": "Python 3"
    },
    "language_info": {
      "name": "python"
    }
  },
  "cells": [
    {
      "cell_type": "markdown",
      "source": [
        "# **Variables in Python**\n",
        "\n",
        "\n",
        "*   Python has no command for declaring a variable.\n",
        "*   Variables do not need to be declared with any particular type, and can even change type after they have been set.\n",
        "\n",
        "\n",
        "*   A Python variable is a reserved memory location to store values.\n",
        "*   Variables are referred to \"envelop\" or \"buckets\" where information can be maintained and referenced\n",
        "\n",
        "\n",
        "  \n",
        "\n",
        "*   Variables can be re-declared even after you have declared them for once\n",
        "\n",
        "\n",
        "\n",
        "  \n",
        "\n",
        "\n",
        "\n",
        "\n",
        "\n",
        "\n",
        "\n",
        "\n",
        "\n",
        "\n",
        "\n"
      ],
      "metadata": {
        "id": "9eFW7XEUmVxX"
      }
    },
    {
      "cell_type": "markdown",
      "source": [
        "# **How to Declare and use a Variable**\n",
        "\n",
        "\n",
        "*   We will declare variable \"a\" and print it.\n",
        "a=100\n",
        "print(a)\n",
        "\n",
        "```\n",
        "# This is formatted as code\n",
        "```\n",
        "\n",
        "\n",
        "# **Re-declare a variable**\n",
        "\n",
        "\n",
        "*   You can re-declare the variable even after you have declared it once.\n",
        "a=100\n",
        "print(a)\n",
        "a=200\n",
        "printa(a)\n",
        "\n",
        "```\n",
        "# This is formatted as code\n",
        "```\n",
        "\n",
        "\n",
        "\n",
        "\n",
        "\n",
        "\n",
        "\n",
        "\n",
        "\n"
      ],
      "metadata": {
        "id": "apPgjgR6wXK5"
      }
    },
    {
      "cell_type": "markdown",
      "source": [
        "# **Rules to create a variables**\n",
        "\n",
        "*   A variable name must start with a letter or the underscore character.\n",
        "*   A variable name cannot start with a number.\n",
        "\n",
        "\n",
        "*   A variable name can only contain alpha-numeric characters and underscores (A-z, 0-9, and _ )\n",
        "*   Variable names are case-sensitive\n",
        "\n",
        "\n",
        "\n",
        "\n",
        "\n"
      ],
      "metadata": {
        "id": "ni-D0jZPxeyJ"
      }
    },
    {
      "cell_type": "markdown",
      "source": [
        "## ***Types of Variables ***\n",
        "\n",
        "\n",
        "*   Valid Variables\n",
        "*   Invalid Variables\n",
        "\n",
        "\n"
      ],
      "metadata": {
        "id": "tOtGxcBV3Vsu"
      }
    },
    {
      "cell_type": "markdown",
      "source": [
        "# **Valid Variables**\n",
        "\n",
        "\n",
        "*   A variable name cannot start with a number.\n"
      ],
      "metadata": {
        "id": "aLYV468a48M3"
      }
    },
    {
      "cell_type": "markdown",
      "source": [
        "# **Invalid Variables**\n",
        "\n",
        "\n",
        "*   A variable name cannot be any of the Python keywords.\n",
        "\n"
      ],
      "metadata": {
        "id": "O1Zj0phx539l"
      }
    },
    {
      "cell_type": "code",
      "source": [
        "a=10\n",
        "print(a)\n",
        "\n",
        "b=-1\n",
        "print(b)\n",
        "\n",
        "ab_c=20\n",
        "print(ab_c)\n",
        "\n",
        "Date_of_birth=11\n",
        "print(Date_of_birth)\n",
        "\n",
        "fruits=\"apple\"\n",
        "print(fruits)\n",
        "\n",
        "unique_number=10\n",
        "print(unique_number)\n",
        "\n",
        "exam_result=\"pass\"\n",
        "print(exam_result)\n",
        "\n",
        "temperature=28\n",
        "print(temperature)\n",
        "\n",
        "big_number=123456789\n",
        "print(big_number)\n",
        "\n",
        "subject=\"english\"\n",
        "print(subject)\n",
        "\n",
        "a1_=1\n",
        "print(a1_)\n",
        "\n",
        "first_name=\"Nikhil\"\n",
        "print(first_name)\n",
        "\n",
        "last_name=\"Teja\"\n",
        "print(last_name)\n",
        "\n",
        "height=5.2\n",
        "print(height)\n",
        "\n",
        "weight=60\n",
        "print(weight)\n",
        "\n",
        "movie=\"kalki\"\n",
        "print(movie)\n",
        "\n",
        "mother_name=\"laxmi\"\n",
        "print(mother_name)\n",
        "\n",
        "father_name=\"sekhar\"\n",
        "print(father_name)\n",
        "\n",
        "b1_2=10\n",
        "print(b1_2)\n",
        "\n",
        "\n",
        "\n"
      ],
      "metadata": {
        "colab": {
          "base_uri": "https://localhost:8080/"
        },
        "id": "CipFtuWn6FXw",
        "outputId": "c273d4e3-3c15-456c-ebcc-1cbf8d63e424"
      },
      "execution_count": 2,
      "outputs": [
        {
          "output_type": "stream",
          "name": "stdout",
          "text": [
            "10\n",
            "-1\n",
            "20\n",
            "11\n",
            "apple\n",
            "10\n",
            "pass\n",
            "28\n",
            "123456789\n",
            "english\n",
            "1\n",
            "Nikhil\n",
            "Teja\n",
            "5.2\n",
            "60\n",
            "kalki\n",
            "laxmi\n",
            "sekhar\n",
            "10\n"
          ]
        }
      ]
    },
    {
      "cell_type": "code",
      "source": [
        "-1=1\n",
        "print(-1)\n",
        "\n",
        "+b=\"nikhil\"\n",
        "print(+b)\n",
        "\n",
        "123=123\n",
        "print(123)\n",
        "\n",
        "@nikhil=12\n",
        "print(@nikhil)\n",
        "\n",
        "-#1=\"nikhil\"\n",
        "print(-#1)\n",
        "\n",
        "nikhil teja =12\n",
        "print(nikhil teja)\n",
        "\n",
        "!1=\"nikhil\"\n",
        "print(!1)\n",
        "\n",
        "*start=12\n",
        "print(*start)\n",
        "\n",
        "/12=\"apple\"\n",
        "print(/12)\n",
        "\n",
        "^12nikhil=12\n",
        "print(^12nikhil)\n",
        "\n",
        "print=\"invalid\"\n",
        "print(print)\n",
        "\n",
        "if=\"123\"\n",
        "print(if)\n",
        "\n",
        "123abc!=\n",
        "print(123abc!)\n"
      ],
      "metadata": {
        "colab": {
          "base_uri": "https://localhost:8080/",
          "height": 106
        },
        "id": "GYeMyCE6HKTi",
        "outputId": "eb9cd4c1-fc97-4295-d02e-db397e8f6253"
      },
      "execution_count": 3,
      "outputs": [
        {
          "output_type": "error",
          "ename": "SyntaxError",
          "evalue": "invalid decimal literal (<ipython-input-3-5f3111d178cd>, line 28)",
          "traceback": [
            "\u001b[0;36m  File \u001b[0;32m\"<ipython-input-3-5f3111d178cd>\"\u001b[0;36m, line \u001b[0;32m28\u001b[0m\n\u001b[0;31m    ^12nikhil=12\u001b[0m\n\u001b[0m      ^\u001b[0m\n\u001b[0;31mSyntaxError\u001b[0m\u001b[0;31m:\u001b[0m invalid decimal literal\n"
          ]
        }
      ]
    }
  ]
}