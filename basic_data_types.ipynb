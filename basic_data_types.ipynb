{
  "nbformat": 4,
  "nbformat_minor": 0,
  "metadata": {
    "colab": {
      "provenance": []
    },
    "kernelspec": {
      "name": "python3",
      "display_name": "Python 3"
    },
    "language_info": {
      "name": "python"
    }
  },
  "cells": [
    {
      "cell_type": "markdown",
      "source": [
        "# **Python Data Types**\n",
        "\n",
        "\n",
        "*   Python data types are actually classes, and the defined variables are their instances or objects.\n",
        "*   Since Python is dynamically typed, the data type of a variable is determined at runtime based on the assigned value.\n",
        "\n",
        "\n",
        "*    The data types are used to define the type of a variable.\n",
        "*   It represents the type of data we are going to store in a variable and determines what operations can be done on it.\n",
        "\n",
        "\n",
        "\n"
      ],
      "metadata": {
        "id": "i0oz2kZ4ibfr"
      }
    },
    {
      "cell_type": "markdown",
      "source": [
        "# **Types of Data Types**\n",
        "\n",
        "\n",
        "*   Basic\n",
        "*   Advanced\n",
        "\n"
      ],
      "metadata": {
        "id": "1Gm4QbYfkQ38"
      }
    },
    {
      "cell_type": "markdown",
      "source": [
        "# **Basic Data Types**\n",
        "\n",
        "\n",
        "*   Integer\n",
        "*   Float\n",
        "\n",
        "*   Boolean\n",
        "*   Complex\n",
        "\n",
        "\n"
      ],
      "metadata": {
        "id": "srE89jYCk5_s"
      }
    },
    {
      "cell_type": "markdown",
      "source": [
        "# **Integer**\n",
        "\n",
        "\n",
        "*   Integer numbers are whole numbers with no decimal places.\n",
        "*   They can be positive or negative numbers.\n",
        "\n",
        "\n",
        "*   For example, 0, 1, 2, 3, -1, -2, and -3 are all integers. Usually, you’ll use positive integer numbers to count things.\n",
        "*   In Python, the integer data type is represented by the int class.\n",
        "\n",
        "\n",
        "\n",
        "\n",
        "\n"
      ],
      "metadata": {
        "id": "v8DOwcjplgp3"
      }
    },
    {
      "cell_type": "code",
      "source": [
        "a=10\n",
        "print(a)\n",
        "\n",
        "Nikhil=100\n",
        "print(Nikhil)\n",
        "\n",
        "zero=0\n",
        "print(zero)\n",
        "\n",
        "first_rank=1\n",
        "print(first_rank)\n",
        "\n",
        "emp_id=123\n",
        "print(emp_id)\n",
        "\n",
        "b=3\n",
        "print(b)\n",
        "\n",
        "salary=10000\n",
        "print(salary)\n",
        "\n",
        "sales=152\n",
        "print(sales)\n",
        "\n",
        "borrow=-1000\n",
        "print(borrow)\n",
        "\n",
        "Target_one=4\n",
        "print(Target_one)"
      ],
      "metadata": {
        "id": "AC1l-2SJmwTE"
      },
      "execution_count": null,
      "outputs": []
    },
    {
      "cell_type": "markdown",
      "source": [
        "# **Float**\n",
        "\n",
        "\n",
        "*   Floating-point numbers, or just float, are numbers with a decimal place\n",
        "*   The syntax of float in Python is float(value).\n",
        "\n"
      ],
      "metadata": {
        "id": "OtKmL3FaoW8R"
      }
    },
    {
      "cell_type": "code",
      "source": [
        "height=5.2\n",
        "print(height)\n",
        "\n",
        "weigth=68.0\n",
        "print(weigth)\n",
        "\n",
        "x=1.0\n",
        "print(x)\n",
        "\n",
        "min=8.5\n",
        "print(min)\n",
        "\n",
        "max=9.5\n",
        "print(max)\n",
        "\n",
        "avg=1\n",
        "print(avg)\n",
        "\n",
        "greater=10\n",
        "print(greater)\n",
        "\n",
        "sum=2.5\n",
        "print(sum)\n",
        "\n",
        "pie=3.75\n",
        "print(pie)\n",
        "\n",
        "grade=8.62\n",
        "print(grade)\n",
        "\n",
        "\n",
        "\n"
      ],
      "metadata": {
        "id": "XbVl1kM99jP6"
      },
      "execution_count": null,
      "outputs": []
    },
    {
      "cell_type": "markdown",
      "source": [
        "# **Complex**\n",
        "\n",
        "\n",
        "*   The complex data type is used to represent complex numbers.\n",
        "*    A complex number has a real part and an imaginary part, which are both floats.\n",
        "\n"
      ],
      "metadata": {
        "id": "JfrkCLMVBBDm"
      }
    },
    {
      "cell_type": "code",
      "source": [
        "y=3+4j\n",
        "print(y)\n",
        "\n",
        "x=4+2j\n",
        "print(x)\n",
        "\n",
        "z=5j\n",
        "print(z)\n",
        "\n",
        "ab_cd=1+2j\n",
        "print(ab_cd)\n",
        "\n",
        "complex_number=5+7j\n",
        "print(complex_number)\n",
        "\n",
        "a=5-7j\n",
        "print(a)\n",
        "\n",
        "real=1+2j\n",
        "print(real)\n",
        "\n",
        "p=1-2j\n",
        "print(p)\n",
        "\n",
        "\n",
        "\n"
      ],
      "metadata": {
        "id": "iUSJ-slhB5cL"
      },
      "execution_count": null,
      "outputs": []
    },
    {
      "cell_type": "markdown",
      "source": [
        "# **Boolean**\n",
        "\n",
        "\n",
        "*  The bool data type represents boolean values, which can be either True or False.\n",
        "*   These are the two possible values of the bool type, and they are often used in conditional statements, loops, and logical operations.\n",
        "\n"
      ],
      "metadata": {
        "id": "mVLvjP3CEN1Y"
      }
    },
    {
      "cell_type": "code",
      "source": [
        "print(10<1)\n",
        "print(100>1000)\n",
        "print(0<1<100)\n",
        "a=\"Nikhil\"\n",
        "print(bool(a))"
      ],
      "metadata": {
        "colab": {
          "base_uri": "https://localhost:8080/"
        },
        "id": "bjWeHEp3E6Wf",
        "outputId": "98ba8270-5e9a-4b9a-e349-53ec172af73f"
      },
      "execution_count": 3,
      "outputs": [
        {
          "output_type": "stream",
          "name": "stdout",
          "text": [
            "False\n",
            "False\n",
            "True\n",
            "True\n"
          ]
        }
      ]
    }
  ]
}