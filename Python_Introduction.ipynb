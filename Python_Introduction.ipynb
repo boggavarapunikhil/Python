{
  "nbformat": 4,
  "nbformat_minor": 0,
  "metadata": {
    "colab": {
      "provenance": []
    },
    "kernelspec": {
      "name": "python3",
      "display_name": "Python 3"
    },
    "language_info": {
      "name": "python"
    }
  },
  "cells": [
    {
      "cell_type": "markdown",
      "source": [
        "# **What is python?**\n",
        "\n",
        "*   Python is an interpreted, object-oriented, high-level programming language.\n",
        "*    Its high-level built in data structures.\n",
        "\n",
        "\n",
        "*   To build websites and software, automate tasks, and analyze data.\n",
        "\n",
        "\n",
        "\n",
        "\n",
        "\n"
      ],
      "metadata": {
        "id": "xOL6J_Fjdq_8"
      }
    },
    {
      "cell_type": "markdown",
      "source": [],
      "metadata": {
        "id": "e3MdcvnEnU_i"
      }
    },
    {
      "cell_type": "markdown",
      "source": [
        "# **History of python**\n",
        "\n",
        "\n",
        "*   In the late 1980s, It was that time when working on python started.\n",
        "\n",
        "*   The language was finally released in 1991.\n",
        "\n",
        "\n",
        "*   It was initially designed by Guido van Rossum in 1991 and developed by Python Software Foundation.\n",
        "\n",
        "\n",
        "\n"
      ],
      "metadata": {
        "id": "ZwJNogn6d09J"
      }
    },
    {
      "cell_type": "markdown",
      "source": [
        "# **Features of python**\n",
        "\n",
        "\n",
        "*   Free and Open Source\n",
        "*   Easy to code\n",
        "\n",
        "\n",
        "*   Easy to Read\n",
        "\n",
        "*   Object-Oriented Language\n",
        "*   GUI Programming Support\n",
        "\n",
        "\n",
        "*  High-Level Language\n",
        "\n",
        "*   Easy to Debug\n",
        "*   Python is an Integrated language\n",
        "\n",
        "\n",
        "\n",
        "\n",
        "\n"
      ],
      "metadata": {
        "id": "P-7aNOnapTkl"
      }
    },
    {
      "cell_type": "markdown",
      "source": [],
      "metadata": {
        "id": "XF-6GGHSozIX"
      }
    },
    {
      "cell_type": "markdown",
      "source": [
        "# **Applications of python**\n",
        "\n",
        "\n",
        "*   Web Development\n",
        "*   Machine Learning and Artificial Intelligence\n",
        "\n",
        "*   Data Science\n",
        "*   Game Development\n",
        "\n",
        "\n",
        "*   Audio and Visual Applications\n",
        "*  Software Development\n",
        "\n",
        "\n",
        "\n",
        "\n"
      ],
      "metadata": {
        "id": "yapkqxI6qcuH"
      }
    },
    {
      "cell_type": "markdown",
      "source": [
        "# **Advantages of python**\n",
        "\n",
        "\n",
        "*   Readable and Maintainable Code\n",
        "*   Extensive Standard Library\n",
        "\n",
        "\n",
        "*   High Compatibility\n",
        "*   Multiple Open-Source Frameworks and Tools\n",
        "\n",
        "\n",
        "\n"
      ],
      "metadata": {
        "id": "WqNk8TBnrn6t"
      }
    },
    {
      "cell_type": "markdown",
      "source": [
        "# **Disadvantages of python**\n",
        "\n",
        "\n",
        "*   Not suitable for Mobile and Game Development\n",
        "*   Large memory consumption\n",
        "\n",
        "\n",
        "*   Addiction to easy coding\n",
        "\n",
        "\n",
        "\n"
      ],
      "metadata": {
        "id": "FGZDI7Nlsb8j"
      }
    },
    {
      "cell_type": "markdown",
      "source": [
        "# **Python first program**\n",
        "`print(\"Hello World\")`"
      ],
      "metadata": {
        "id": "7j8rqMygtVna"
      }
    },
    {
      "cell_type": "markdown",
      "source": [
        "# **Comments in Python**\n",
        "\n",
        "\n",
        "*   single line Comment\n",
        "*   multi line Comment\n",
        "\n",
        "\n"
      ],
      "metadata": {
        "id": "nybetCQsttbW"
      }
    },
    {
      "cell_type": "markdown",
      "source": [
        "# **Keywords in python**\n",
        "import keyword\n",
        "py_keywords=keyword.kwlist\n",
        "print(py_keywords)\n",
        "len(py_keywords)\n",
        "\n",
        "```\n",
        "# This is formatted as code\n",
        "```\n",
        "\n"
      ],
      "metadata": {
        "id": "4I6M0D29uvga"
      }
    },
    {
      "cell_type": "code",
      "source": [
        "import keyword\n",
        "py_keywords=keyword.kwlist\n",
        "print(py_keywords)\n",
        "len(py_keywords)"
      ],
      "metadata": {
        "colab": {
          "base_uri": "https://localhost:8080/"
        },
        "id": "-Mo3oFIAEy_c",
        "outputId": "adf6efb1-4861-4b3e-e1c4-4e41fe94d413"
      },
      "execution_count": null,
      "outputs": [
        {
          "output_type": "stream",
          "name": "stdout",
          "text": [
            "['False', 'None', 'True', 'and', 'as', 'assert', 'async', 'await', 'break', 'class', 'continue', 'def', 'del', 'elif', 'else', 'except', 'finally', 'for', 'from', 'global', 'if', 'import', 'in', 'is', 'lambda', 'nonlocal', 'not', 'or', 'pass', 'raise', 'return', 'try', 'while', 'with', 'yield']\n"
          ]
        },
        {
          "output_type": "execute_result",
          "data": {
            "text/plain": [
              "35"
            ]
          },
          "metadata": {},
          "execution_count": 2
        }
      ]
    }
  ]
}